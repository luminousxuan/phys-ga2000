{
 "cells": [
  {
   "cell_type": "code",
   "execution_count": 18,
   "id": "9d368afa",
   "metadata": {},
   "outputs": [],
   "source": [
    "import numpy as np\n",
    "import pandas as pd\n",
    "import matplotlib.pyplot as plt\n",
    "from scipy import optimize"
   ]
  },
  {
   "cell_type": "code",
   "execution_count": 19,
   "id": "9cb87290",
   "metadata": {},
   "outputs": [],
   "source": [
    "data = pd.read_csv('survey.csv')\n",
    "xs = data['age'].to_numpy()\n",
    "ys = data['recognized_it'].to_numpy()\n",
    "x_sort = np.argsort(xs)\n",
    "age = xs[x_sort]\n",
    "recognize = ys[x_sort]"
   ]
  },
  {
   "cell_type": "code",
   "execution_count": 20,
   "id": "202de115",
   "metadata": {},
   "outputs": [],
   "source": [
    "def log_likelihood(beta, xs, ys):\n",
    "    beta_0 = beta[0]\n",
    "    beta_1 = beta[1]\n",
    "    epsilon = 1e-16\n",
    "    l_list = [ys[i]*np.log(p(xs[i], beta_0, beta_1)/(1-p(xs[i], beta_0, beta_1)+epsilon)) \n",
    "              + np.log(1-p(xs[i], beta_0, beta_1)+epsilon) for i in range(len(xs))]\n",
    "    ll = np.sum(np.array(l_list), axis = -1)\n",
    "    return -ll # return log likelihood"
   ]
  },
  {
   "cell_type": "code",
   "execution_count": 21,
   "id": "5dfbf2c5",
   "metadata": {},
   "outputs": [],
   "source": [
    "def p(x, beta0, beta1): \n",
    "    return 1/(1+np.exp(-(beta0+beta1*x)))"
   ]
  },
  {
   "cell_type": "code",
   "execution_count": 47,
   "id": "0232b6a6",
   "metadata": {},
   "outputs": [],
   "source": [
    "def Covariance(hess_inv, resVariance):\n",
    "    return hess_inv * resVariance\n",
    "\n",
    "def error(hess_inv, resVariance):\n",
    "    covariance = Covariance(hess_inv, resVariance)\n",
    "    return np.sqrt( np.diag( covariance ))\n",
    "\n",
    "pstart = [1,42]\n",
    "beta = np.array([-1,1])"
   ]
  },
  {
   "cell_type": "code",
   "execution_count": 48,
   "id": "1d5b7c11",
   "metadata": {},
   "outputs": [
    {
     "name": "stdout",
     "output_type": "stream",
     "text": [
      "Optimal parameters and error:\n",
      "\tp:  [-5.62023318  0.10956342] \n",
      "\tdp:  [0.07135651 0.00426131]\n",
      "Covariance matrix of optimal parameters:\n",
      "\tC:  [[ 5.09175175e-03 -1.17826017e-04]\n",
      " [-1.17826017e-04  1.81587401e-05]]\n"
     ]
    }
   ],
   "source": [
    "result = optimize.minimize(lambda beta, age, recognize: log_likelihood(beta, age, recognize),beta,args=(age, recognize))\n",
    "hess_inv = result.hess_inv # inverse of hessian matrix\n",
    "var = result.fun/(len(recognize)-len(pstart))\n",
    "dFit = error(hess_inv,var)\n",
    "print('Optimal parameters and error:\\n\\tp: ' , result.x, '\\n\\tdp: ', dFit)\n",
    "print('Covariance matrix of optimal parameters:\\n\\tC: ' , Covariance( hess_inv,  var))"
   ]
  },
  {
   "cell_type": "code",
   "execution_count": 49,
   "id": "048d734a",
   "metadata": {},
   "outputs": [
    {
     "data": {
      "image/png": "[encoded data removed]",
      "text/plain": [
       "<Figure size 432x288 with 1 Axes>"
      ]
     },
     "metadata": {
      "needs_background": "light"
     },
     "output_type": "display_data"
    }
   ],
   "source": [
    "plt.plot(age, p(age, result.x[0], result.x[1]), label='Logistic Function')\n",
    "plt.plot(age, recognize, 'o', label='Data')\n",
    "plt.title('Probability of hearing the phrase')\n",
    "plt.xlabel('Age (y)')\n",
    "plt.ylabel('Probabilty')\n",
    "plt.legend()\n",
    "plt.savefig('ps7_2.png')"
   ]
  },
  {
   "cell_type": "code",
   "execution_count": null,
   "id": "d05f3002",
   "metadata": {},
   "outputs": [],
   "source": []
  }
 ],
 "metadata": {
  "kernelspec": {
   "display_name": "Python 3",
   "language": "python",
   "name": "python3"
  },
  "language_info": {
   "codemirror_mode": {
    "name": "ipython",
    "version": 3
   },
   "file_extension": ".py",
   "mimetype": "text/x-python",
   "name": "python",
   "nbconvert_exporter": "python",
   "pygments_lexer": "ipython3",
   "version": "3.8.8"
  }
 },
 "nbformat": 4,
 "nbformat_minor": 5
}
